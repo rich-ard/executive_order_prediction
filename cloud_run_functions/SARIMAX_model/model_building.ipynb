{
 "cells": [
  {
   "cell_type": "code",
   "execution_count": 3,
   "metadata": {},
   "outputs": [],
   "source": [
    "# retrieve data from BigQuery\n",
    "\n",
    "\n",
    "from google.cloud import bigquery\n",
    "import pandas as pd\n",
    "from sklearn.preprocessing import StandardScaler\n",
    "from sklearn.decomposition import PCA\n",
    "\n",
    "client = bigquery.Client()\n",
    "\n",
    "query = \"\"\"\n",
    "DECLARE MaxDate DATETIME\n",
    "  DEFAULT (\n",
    "    SELECT MAX(run_date)\n",
    "    FROM `executive-orders-448515.weekly_data_collected.weekly_variables_flattened`\n",
    "  );\n",
    "\n",
    "SELECT \n",
    "  * EXCEPT(run_date)\n",
    "FROM `executive-orders-448515.weekly_data_collected.weekly_variables_flattened`\n",
    "WHERE run_date = MaxDate\n",
    "ORDER BY week_start ASC;\n",
    "\"\"\"\n",
    "\n",
    "raw_data = client.query_and_wait(query)\n",
    "df = raw_data.to_dataframe()"
   ]
  },
  {
   "cell_type": "code",
   "execution_count": null,
   "metadata": {},
   "outputs": [],
   "source": [
    "# index rows by week\n",
    "df['week_start'] = pd.to_datetime(df['week_start'])\n",
    "df = df.sort_values(by='week_start', ascending=True)\n",
    "df.set_index('week_start', inplace=True)"
   ]
  },
  {
   "cell_type": "code",
   "execution_count": 12,
   "metadata": {},
   "outputs": [
    {
     "name": "stderr",
     "output_type": "stream",
     "text": [
      "c:\\Users\\rtbra\\OneDrive\\Documents\\WGU\\D610\\executive_order_prediction\\.venv\\Lib\\site-packages\\pandas\\core\\missing.py:604: UserWarning: \n",
      "The maximal number of iterations maxit (set to 20 by the program)\n",
      "allowed for finding a smoothing spline with fp=s has been reached: s\n",
      "too small.\n",
      "There is an approximation returned but the corresponding weighted sum\n",
      "of squared residuals does not satisfy the condition abs(fp-s)/s < tol.\n",
      "  terp = interpolate.UnivariateSpline(x, y, k=order, **kwargs)\n"
     ]
    }
   ],
   "source": [
    "# spline-interpolate exog vars to fill missing values\n",
    "df_exog_interpolated = df.drop('orders_outcome_var', axis=1).astype(float).interpolate(method='spline', order = 3) # order 3 is cubic"
   ]
  },
  {
   "cell_type": "code",
   "execution_count": 35,
   "metadata": {},
   "outputs": [],
   "source": [
    "# create principal components from exog vars\n",
    "scaler = StandardScaler()\n",
    "df_to_standardize = df_exog_interpolated.drop(['disapproving'], axis=1)\n",
    "df_standardized = scaler.fit_transform(df_to_standardize)\n",
    "\n",
    "pca = PCA( n_components=4) # data exploration determined that 4 PCs will be retained\n",
    "principal_components = pca.fit_transform(df_standardized)\n",
    "df_principal_components = pd.DataFrame(principal_components, columns=['PC1','PC2','PC3','PC4'], index=df_to_standardize.index)\n",
    "\n"
   ]
  },
  {
   "cell_type": "code",
   "execution_count": 38,
   "metadata": {},
   "outputs": [
    {
     "name": "stdout",
     "output_type": "stream",
     "text": [
      "                 PC1       PC2       PC3       PC4  orders_outcome_var\n",
      "week_start                                                            \n",
      "2004-07-04 -2.496230  5.017040  1.072649 -0.341472                   3\n",
      "2004-07-11 -2.496230  5.017040  1.072649 -0.341472                   6\n",
      "2004-07-18 -2.496230  5.017040  1.072649 -0.341472                   0\n",
      "2004-07-25 -2.496230  5.017040  1.072649 -0.341472                  12\n",
      "2004-08-01 -2.370164  5.148217  1.442226 -0.202536                   0\n",
      "...              ...       ...       ...       ...                 ...\n",
      "2024-12-01  6.201533 -1.054575 -0.325082  1.142886                   0\n",
      "2024-12-08  6.166974 -1.077202 -0.405412  1.127427                   0\n",
      "2024-12-15  6.096656 -1.125358 -0.564260  1.092884                   0\n",
      "2024-12-22  5.978336 -1.208337 -0.827310  1.031917                   3\n",
      "2024-12-29  5.799770 -1.335433 -1.220248  0.937187                   2\n",
      "\n",
      "[1070 rows x 5 columns]\n"
     ]
    }
   ],
   "source": [
    "df1 = df_principal_components.join(df['orders_outcome_var'])"
   ]
  }
 ],
 "metadata": {
  "kernelspec": {
   "display_name": ".venv",
   "language": "python",
   "name": "python3"
  },
  "language_info": {
   "codemirror_mode": {
    "name": "ipython",
    "version": 3
   },
   "file_extension": ".py",
   "mimetype": "text/x-python",
   "name": "python",
   "nbconvert_exporter": "python",
   "pygments_lexer": "ipython3",
   "version": "3.12.8"
  }
 },
 "nbformat": 4,
 "nbformat_minor": 2
}
